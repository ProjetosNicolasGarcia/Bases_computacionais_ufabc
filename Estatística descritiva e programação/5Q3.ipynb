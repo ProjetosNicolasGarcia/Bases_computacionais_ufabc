{
  "nbformat": 4,
  "nbformat_minor": 0,
  "metadata": {
    "colab": {
      "provenance": []
    },
    "kernelspec": {
      "name": "python3",
      "display_name": "Python 3"
    },
    "language_info": {
      "name": "python"
    }
  },
  "cells": [
    {
      "cell_type": "code",
      "execution_count": 34,
      "metadata": {
        "colab": {
          "base_uri": "https://localhost:8080/"
        },
        "outputId": "f5aef025-5430-4bff-ddee-8dfeab375be6",
        "id": "8ey4kWnjChOu"
      },
      "outputs": [
        {
          "output_type": "stream",
          "name": "stdout",
          "text": [
            "a media e:  60.510000000000005\n",
            "a mediana e:  61.2\n",
            "a moda e:  0    64.4\n",
            "Name: Peso, dtype: float64\n",
            "O percentil de 25 é:  54.275\n",
            "O percentil de 25 é:  61.2\n",
            "O percentil de 25 é:  64.4\n"
          ]
        }
      ],
      "source": [
        "import pandas as pd\n",
        "import numpy as np\n",
        "df = pd.read_csv(\"https://drive.google.com/uc?export=download&id=1XGfI3-bh1FqDYE394HfnQ1BrasB9-doC\")\n",
        "d1 = df[\"Peso\"].mean()\n",
        "d2 =df[\"Peso\"].median()\n",
        "d3 = df[\"Peso\"].mode()\n",
        "print(\"a media e: \",d1)\n",
        "print(\"a mediana e: \",d2)\n",
        "print(\"a moda e: \",d3)\n",
        "d4 = np.percentile(df[\"Peso\"],q=25)\n",
        "d5 = np.percentile(df[\"Peso\"],q=50)\n",
        "d6 = np.percentile(df[\"Peso\"],q=75)\n",
        "print(\"O percentil de 25 é: \",d4)\n",
        "print(\"O percentil de 25 é: \",d5)\n",
        "print(\"O percentil de 25 é: \",d6)\n"
      ]
    }
  ]
}