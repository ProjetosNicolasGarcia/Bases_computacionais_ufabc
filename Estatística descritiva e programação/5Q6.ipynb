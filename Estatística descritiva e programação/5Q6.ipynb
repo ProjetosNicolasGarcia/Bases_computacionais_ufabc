{
  "nbformat": 4,
  "nbformat_minor": 0,
  "metadata": {
    "colab": {
      "provenance": []
    },
    "kernelspec": {
      "name": "python3",
      "display_name": "Python 3"
    },
    "language_info": {
      "name": "python"
    }
  },
  "cells": [
    {
      "cell_type": "code",
      "execution_count": 47,
      "metadata": {
        "colab": {
          "base_uri": "https://localhost:8080/"
        },
        "outputId": "9d5ee2cf-d330-49a1-a21d-d865b2f4d19e",
        "id": "yJCyxaT7cNo9"
      },
      "outputs": [
        {
          "output_type": "stream",
          "name": "stdout",
          "text": [
            "Media:\n",
            "Categoria\n",
            "Bebidas       15.00\n",
            "Carnes        12.99\n",
            "Cereais       12.48\n",
            "Frutas        16.25\n",
            "Higiene       13.40\n",
            "Laticínios     4.79\n",
            "Limpeza        8.97\n",
            "Padaria       13.50\n",
            "Name: Receita, dtype: float64\n",
            "\n",
            "Mediana:\n",
            "Categoria\n",
            "Bebidas       15.00\n",
            "Carnes        12.99\n",
            "Cereais       12.48\n",
            "Frutas        16.25\n",
            "Higiene       13.40\n",
            "Laticínios     4.79\n",
            "Limpeza        8.97\n",
            "Padaria       13.50\n",
            "Name: Receita, dtype: float64\n",
            "\n",
            "Desvio padrao:\n",
            "Categoria\n",
            "Bebidas            NaN\n",
            "Carnes             NaN\n",
            "Cereais       2.121320\n",
            "Frutas             NaN\n",
            "Higiene       3.535534\n",
            "Laticínios         NaN\n",
            "Limpeza            NaN\n",
            "Padaria            NaN\n",
            "Name: Receita, dtype: float64\n",
            "\n",
            "Variancia:\n",
            "Categoria\n",
            "Bebidas        NaN\n",
            "Carnes         NaN\n",
            "Cereais        4.5\n",
            "Frutas         NaN\n",
            "Higiene       12.5\n",
            "Laticínios     NaN\n",
            "Limpeza        NaN\n",
            "Padaria        NaN\n",
            "Name: Receita, dtype: float64\n"
          ]
        }
      ],
      "source": [
        "\n",
        "\n",
        "import pandas as pd\n",
        "\n",
        "\n",
        "df = pd.read_csv(\"https://drive.google.com/uc?export=download&id=1SVNzsSeU37xs8bC3Yvfr9aBphRB0TUmU\")\n",
        "\n",
        "\n",
        "df['Receita'] = df['Preco_Unitario'] * df['Quantidade']\n",
        "\n",
        "\n",
        "media = df.groupby('Categoria')['Receita'].mean().sort_index()\n",
        "mediana = df.groupby('Categoria')['Receita'].median().sort_index()\n",
        "desvio = df.groupby('Categoria')['Receita'].std().sort_index()\n",
        "variancia = df.groupby('Categoria')['Receita'].var().sort_index()\n",
        "\n",
        "print(\"Media:\")\n",
        "print(media)\n",
        "\n",
        "print(\"\\nMediana:\")\n",
        "print(mediana)\n",
        "\n",
        "print(\"\\nDesvio padrao:\")\n",
        "print(desvio)\n",
        "\n",
        "print(\"\\nVariancia:\")\n",
        "print(variancia)\n"
      ]
    }
  ]
}