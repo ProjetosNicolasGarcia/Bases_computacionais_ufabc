{
  "nbformat": 4,
  "nbformat_minor": 0,
  "metadata": {
    "colab": {
      "provenance": []
    },
    "kernelspec": {
      "name": "python3",
      "display_name": "Python 3"
    },
    "language_info": {
      "name": "python"
    }
  },
  "cells": [
    {
      "cell_type": "code",
      "execution_count": 45,
      "metadata": {
        "colab": {
          "base_uri": "https://localhost:8080/"
        },
        "outputId": "a6325b7e-b6a5-44bf-dc5d-5bb693887b45",
        "id": "yJCyxaT7cNo9"
      },
      "outputs": [
        {
          "output_type": "stream",
          "name": "stdout",
          "text": [
            "a media e:  212.2\n",
            "a mediana e:  211.5\n",
            "a moda e:  0    167\n",
            "1    183\n",
            "2    193\n",
            "3    203\n",
            "4    211\n",
            "5    212\n",
            "6    223\n",
            "7    239\n",
            "8    242\n",
            "9    249\n",
            "Name: Colesterol, dtype: int64\n",
            "O percentil de 25 é:  195.5\n",
            "O percentil de 25 é:  211.5\n",
            "O percentil de 25 é:  235.0\n",
            "o desvio padrão e:  26.72410480779062\n",
            "A variância e:  714.1777777777777\n",
            "A amplitude e:  82\n"
          ]
        }
      ],
      "source": [
        "import pandas as pd\n",
        "import numpy as np\n",
        "# Lê o arquivo CSV\n",
        "\n",
        "df = pd.read_csv(\"https://drive.google.com/uc?export=download&id=1XGfI3-bh1FqDYE394HfnQ1BrasB9-doC\")\n",
        "\n",
        "\n",
        "\n",
        "\n",
        "\n",
        "d1 = df[\"Colesterol\"].std()\n",
        "d2 = df[\"Colesterol\"].var()\n",
        "d3 = df[\"Colesterol\"].max()-df[\"Colesterol\"].min()\n",
        "\n",
        "d4 = np.percentile(df[\"Colesterol\"],q=25)\n",
        "d5 = np.percentile(df[\"Colesterol\"],q=50)\n",
        "d6 = np.percentile(df[\"Colesterol\"],q=75)\n",
        "\n",
        "d7 = df[\"Colesterol\"].mean()\n",
        "d8 =df[\"Colesterol\"].median()\n",
        "d9 = df[\"Colesterol\"].mode()\n",
        "\n",
        "\n",
        "\n",
        "print(\"a media e: \",d7)\n",
        "print(\"a mediana e: \",d8)\n",
        "print(\"a moda e: \",d9)\n",
        "\n",
        "print(\"O percentil de 25 é: \",d4)\n",
        "print(\"O percentil de 25 é: \",d5)\n",
        "print(\"O percentil de 25 é: \",d6)\n",
        "\n",
        "print(\"o desvio padrão e: \",d1)\n",
        "print(\"A variância e: \",d2)\n",
        "print(\"A amplitude e: \",d3)\n",
        "\n",
        "\n",
        "\n",
        "\n",
        "\n"
      ]
    }
  ]
}