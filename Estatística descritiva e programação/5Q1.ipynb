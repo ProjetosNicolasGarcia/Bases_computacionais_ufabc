{
  "nbformat": 4,
  "nbformat_minor": 0,
  "metadata": {
    "colab": {
      "provenance": []
    },
    "kernelspec": {
      "name": "python3",
      "display_name": "Python 3"
    },
    "language_info": {
      "name": "python"
    }
  },
  "cells": [
    {
      "cell_type": "code",
      "execution_count": 23,
      "metadata": {
        "colab": {
          "base_uri": "https://localhost:8080/"
        },
        "outputId": "006f0b54-d309-492c-9418-30b443b3e869",
        "id": "8ey4kWnjChOu"
      },
      "outputs": [
        {
          "output_type": "stream",
          "name": "stdout",
          "text": [
            "17.966666666666665\n",
            "17.5\n",
            "0    15\n",
            "1    17\n",
            "Name: temperatura, dtype: int64\n"
          ]
        }
      ],
      "source": [
        "import pandas as pd\n",
        "df = pd.read_csv(\"https://drive.google.com/u/1/uc?id=182_Z-bL7n9itkupECYhIOEGuIjfQbF0Z&export=download\")\n",
        "d1 =df[\"temperatura\"].mean()\n",
        "d2 = df[\"temperatura\"].median()\n",
        "d3 = df[\"temperatura\"].mode()\n",
        "print(d1)\n",
        "print(d2)\n",
        "print(d3)"
      ]
    }
  ]
}