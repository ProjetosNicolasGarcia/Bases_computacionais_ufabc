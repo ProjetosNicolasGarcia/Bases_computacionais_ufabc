{
  "nbformat": 4,
  "nbformat_minor": 0,
  "metadata": {
    "colab": {
      "provenance": []
    },
    "kernelspec": {
      "name": "python3",
      "display_name": "Python 3"
    },
    "language_info": {
      "name": "python"
    }
  },
  "cells": [
    {
      "cell_type": "code",
      "execution_count": 31,
      "metadata": {
        "colab": {
          "base_uri": "https://localhost:8080/"
        },
        "outputId": "ae633e26-1a25-416c-8280-c236d77e580d",
        "id": "8ey4kWnjChOu"
      },
      "outputs": [
        {
          "output_type": "stream",
          "name": "stdout",
          "text": [
            "a media e:  19.96\n",
            "a mediana e:  21.35\n",
            "a moda e:  0    13.7\n",
            "1    16.7\n",
            "2    17.3\n",
            "3    17.5\n",
            "4    21.0\n",
            "5    21.7\n",
            "6    22.4\n",
            "7    22.5\n",
            "8    23.3\n",
            "9    23.5\n",
            "Name: IMC, dtype: float64\n"
          ]
        }
      ],
      "source": [
        "import pandas as pd\n",
        "df = pd.read_csv(\"https://drive.google.com/uc?export=download&id=1XGfI3-bh1FqDYE394HfnQ1BrasB9-doC\")\n",
        "d1 = df[\"IMC\"].mean()\n",
        "d2 =df[\"IMC\"].median()\n",
        "d3 = df[\"IMC\"].mode()\n",
        "print(\"a media e: \",d1)\n",
        "print(\"a mediana e: \",d2)\n",
        "print(\"a moda e: \",d3)"
      ]
    }
  ]
}