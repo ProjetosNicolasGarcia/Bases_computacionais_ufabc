{
  "nbformat": 4,
  "nbformat_minor": 0,
  "metadata": {
    "colab": {
      "provenance": []
    },
    "kernelspec": {
      "name": "python3",
      "display_name": "Python 3"
    },
    "language_info": {
      "name": "python"
    }
  },
  "cells": [
    {
      "cell_type": "code",
      "execution_count": 44,
      "metadata": {
        "colab": {
          "base_uri": "https://localhost:8080/"
        },
        "outputId": "907a7a2a-3408-4304-ee79-75ff935acbd5",
        "id": "yJCyxaT7cNo9"
      },
      "outputs": [
        {
          "output_type": "stream",
          "name": "stdout",
          "text": [
            "7.168604389202189\n",
            "51.388888888888886\n",
            "21\n"
          ]
        }
      ],
      "source": [
        "import pandas as pd\n",
        "\n",
        "# Lê o arquivo CSV\n",
        "df = pd.read_csv(\"https://drive.google.com/uc?export=download&id=1XGfI3-bh1FqDYE394HfnQ1BrasB9-doC\")\n",
        "\n",
        "# Converte a vírgula para ponto, se necessário (caso os valores estejam como '1,75')\n",
        "df['Altura'] = df['Altura'].astype(str).str.replace(',', '.').astype(float)\n",
        "\n",
        "# Converte de metros para centímetros\n",
        "df['Altura_cm'] = df['Altura'] * 100\n",
        "\n",
        "# Arredonda para inteiro, se desejar\n",
        "df['Altura_cm'] = df['Altura_cm'].round().astype(int)\n",
        "\n",
        "# Exibe o resultado\n",
        "\n",
        "d1 = df[\"Altura_cm\"].std()\n",
        "d2 = df[\"Altura_cm\"].var()\n",
        "d3 = df[\"Altura_cm\"].max()-df[\"Altura_cm\"].min()\n",
        "\n",
        "print(d1)\n",
        "print(d2)\n",
        "print(d3)\n",
        "\n",
        "\n",
        "\n",
        "\n"
      ]
    }
  ]
}